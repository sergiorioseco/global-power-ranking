{
 "cells": [
  {
   "cell_type": "code",
   "execution_count": 34,
   "id": "e44f6902",
   "metadata": {},
   "outputs": [],
   "source": [
    "import requests\n",
    "import json\n",
    "import gzip\n",
    "import shutil\n",
    "import time\n",
    "import os\n",
    "from io import BytesIO\n",
    "\n",
    "\n",
    "S3_BUCKET_URL = \"https://power-rankings-dataset-gprhack.s3.us-west-2.amazonaws.com\"\n",
    "\n",
    "\n",
    "def download_gzip_and_write_to_json(file_name):\n",
    "   # If file already exists locally do not re-download game\n",
    "   if os.path.isfile(f\"{file_name}.json\"):\n",
    "       return\n",
    "\n",
    "   response = requests.get(f\"{S3_BUCKET_URL}/{file_name}.json.gz\")\n",
    "   if response.status_code == 200:\n",
    "       try:\n",
    "           gzip_bytes = BytesIO(response.content)\n",
    "           with gzip.GzipFile(fileobj=gzip_bytes, mode=\"rb\") as gzipped_file:\n",
    "               with open(f\"{file_name}.json\", 'wb') as output_file:\n",
    "                   shutil.copyfileobj(gzipped_file, output_file)\n",
    "               print(f\"{file_name}.json written\")\n",
    "       except Exception as e:\n",
    "           print(\"Error:\", e)\n",
    "   else:\n",
    "       print(f\"Failed to download {file_name}\")\n",
    "\n",
    "\n",
    "def download_esports_files():\n",
    "   directory = \"esports-data\"\n",
    "   if not os.path.exists(directory):\n",
    "       os.makedirs(directory)\n",
    "\n",
    "   esports_data_files = [\"leagues\", \"tournaments\", \"players\", \"teams\", \"mapping_data\"]\n",
    "   for file_name in esports_data_files:\n",
    "       download_gzip_and_write_to_json(f\"{directory}/{file_name}\")\n",
    "\n",
    "if __name__ == \"__main__\":\n",
    "   download_esports_files()\n"
   ]
  },
  {
   "cell_type": "code",
   "execution_count": 33,
   "id": "8b1cf92a",
   "metadata": {},
   "outputs": [
    {
     "name": "stdout",
     "output_type": "stream",
     "text": [
      "{'eventTime': '2019-05-01T09:40:59.589Z', 'eventType': 'game_end', 'platformGameId': 'ESPORTSTMNT01:1110148', 'gameTime': 1742456, 'wallTime': 1556703659585, 'sequenceIndex': 2897, 'gameName': 'bmr|pvb|g1|29219dd268bb46b2981', 'winningTeam': 100, 'playbackID': 1}\n",
      "Evento game_end encontrado y guardado en 'evento_game_end.json'.\n"
     ]
    }
   ],
   "source": []
  },
  {
   "cell_type": "code",
   "execution_count": null,
   "id": "2cc73d9a",
   "metadata": {},
   "outputs": [],
   "source": []
  }
 ],
 "metadata": {
  "kernelspec": {
   "display_name": "Python 3 (ipykernel)",
   "language": "python",
   "name": "python3"
  },
  "language_info": {
   "codemirror_mode": {
    "name": "ipython",
    "version": 3
   },
   "file_extension": ".py",
   "mimetype": "text/x-python",
   "name": "python",
   "nbconvert_exporter": "python",
   "pygments_lexer": "ipython3",
   "version": "3.9.13"
  },
  "toc": {
   "base_numbering": 1,
   "nav_menu": {},
   "number_sections": true,
   "sideBar": true,
   "skip_h1_title": false,
   "title_cell": "Table of Contents",
   "title_sidebar": "Contents",
   "toc_cell": false,
   "toc_position": {},
   "toc_section_display": true,
   "toc_window_display": false
  }
 },
 "nbformat": 4,
 "nbformat_minor": 5
}
