{
 "cells": [
  {
   "cell_type": "code",
   "execution_count": 53,
   "id": "5a21bedb",
   "metadata": {},
   "outputs": [],
   "source": [
    "import pandas as pd\n",
    "import json\n",
    "from datetime import datetime\n",
    "\n",
    "# Cargar el archivo JSON\n",
    "with open(r'C:\\Users\\sergi\\PROYECTO POWER RANKING\\esports-data\\tournaments.json', 'r') as archivo:\n",
    "    datos_torneos = json.load(archivo)\n",
    "\n",
    "# Función para obtener la información de los partidos\n",
    "def obtener_info_partidos(torneos):\n",
    "    info_partidos = []\n",
    "\n",
    "    for torneo in torneos:\n",
    "        torneo_id = torneo['id']\n",
    "        torneo_nombre = torneo['name']\n",
    "        torneo_fecha_inicio = datetime.strptime(torneo['startDate'], '%Y-%m-%d')\n",
    "\n",
    "        for stage in torneo['stages']:\n",
    "            stage_name=stage['name']\n",
    "            for section in stage['sections']:\n",
    "                for partido in section['matches']:\n",
    "                    partido_id = partido['id']\n",
    "                    partido_tipo = partido['strategy']['type']\n",
    "                    partido_count = partido['strategy']['count']\n",
    "                    game1_ID = partido['games'][0]['id']\n",
    "                    team1 = partido['teams'][0]['id']\n",
    "                    if partido['teams'][0]['result'] is not None and 'outcome' in partido['teams'][0]['result']:\n",
    "                        outcome1 = partido['teams'][0]['result']['outcome']\n",
    "                    else:\n",
    "                        outcome1 = None  # Otra acción adecuada en caso de que 'outcome' no exista o sea None\n",
    "                    team2 = partido['teams'][1]['id']\n",
    "                    if partido['teams'][1]['result'] is not None and 'outcome' in partido['teams'][1]['result']:\n",
    "                        outcome2 = partido['teams'][1]['result']['outcome']\n",
    "                    else:\n",
    "                        outcome2 = None  # Otra acción adecuada en caso de que 'outcome' no exista o sea None\n",
    "\n",
    "                    info_partidos.append({\n",
    "                        'Torneo ID': torneo_id,\n",
    "                        'Torneo Nombre': torneo_nombre,\n",
    "                        'Fecha Torneo': torneo_fecha_inicio,\n",
    "                        'Stage':stage_name,\n",
    "                        'Partido ID': partido_id,\n",
    "                        'Tipo': partido_tipo,\n",
    "                        'Count': partido_count,\n",
    "                        'Game1 ID': game1_ID,\n",
    "                        'Team 1 ID': team1,\n",
    "                        'Outcome 1': outcome1,\n",
    "                        'Team 2 ID': team2,\n",
    "                        'Outcome 2': outcome2\n",
    "                    })\n",
    "\n",
    "    return info_partidos\n",
    "\n",
    "# Obtener la información de los partidos\n",
    "info_partidos = obtener_info_partidos(datos_torneos)\n",
    "df_tournaments = pd.DataFrame(info_partidos)\n"
   ]
  },
  {
   "cell_type": "code",
   "execution_count": 54,
   "id": "f005ff8f",
   "metadata": {},
   "outputs": [],
   "source": [
    "# Cargar el archivo JSON\n",
    "with open(r\"C:\\Users\\sergi\\PROYECTO POWER RANKING\\esports-data\\leagues.json\", 'r') as archivo:\n",
    "    datos_leagues = json.load(archivo)\n",
    "\n",
    "# Función para obtener la información de las ligas\n",
    "def obtener_info_leagues(datos_leagues):\n",
    "    info_leagues = []\n",
    "\n",
    "    for league in datos_leagues:\n",
    "        name = league['name']\n",
    "        region = league['region']\n",
    "\n",
    "        for tournament in league['tournaments']:\n",
    "            tournament_id = tournament['id']\n",
    "\n",
    "            info_leagues.append({\n",
    "                'league_name': name,  # Cambiado de 'torneo_id' a 'name'\n",
    "                'region': region,\n",
    "                'tournament_id': tournament_id\n",
    "            })\n",
    "\n",
    "    return info_leagues\n",
    "\n",
    "# Obtener la información de las ligas\n",
    "info_leagues = obtener_info_leagues(datos_leagues)\n",
    "\n",
    "# Crear un DataFrame a partir de la información de las ligas\n",
    "df_leagues = pd.DataFrame(info_leagues)"
   ]
  },
  {
   "cell_type": "code",
   "execution_count": 55,
   "id": "8aa8dfb7",
   "metadata": {},
   "outputs": [],
   "source": [
    "with open(r\"C:\\Users\\sergi\\PROYECTO POWER RANKING\\esports-data\\teams.json\", 'r') as archivo:\n",
    "    datos_equipos = json.load(archivo)\n",
    "df_teams = pd.DataFrame(datos_equipos)    \n",
    "with open(r\"C:\\Users\\sergi\\PROYECTO POWER RANKING\\esports-data\\mapping_data.json\", 'r') as archivo:\n",
    "    datos_mapping = json.load(archivo)\n",
    "df_mapping = pd.DataFrame(datos_mapping)\n",
    "with open(r\"C:\\Users\\sergi\\PROYECTO POWER RANKING\\games.json\", 'r') as archivo:\n",
    "    datos_games = json.load(archivo)\n",
    "df_games = pd.DataFrame(datos_games)\n"
   ]
  },
  {
   "cell_type": "code",
   "execution_count": 56,
   "id": "8937c09d",
   "metadata": {},
   "outputs": [],
   "source": [
    "df1 = df_tournaments.merge(df_mapping, left_on='Game1 ID', right_on='esportsGameId', how='left')"
   ]
  },
  {
   "cell_type": "code",
   "execution_count": 57,
   "id": "a96f7b21",
   "metadata": {},
   "outputs": [],
   "source": [
    "df1 = df1.dropna(subset=['platformGameId'])\n",
    "df1 = df1.reset_index(drop=True)"
   ]
  },
  {
   "cell_type": "code",
   "execution_count": 58,
   "id": "2f9a07b6",
   "metadata": {},
   "outputs": [],
   "source": [
    "df2 = df1.merge(df_teams, left_on='Team 1 ID', right_on='team_id', how='left')\n",
    "df2 = df2.rename(columns={'name': 'Team1_Name'})"
   ]
  },
  {
   "cell_type": "code",
   "execution_count": 59,
   "id": "19832289",
   "metadata": {},
   "outputs": [],
   "source": [
    "df3 = df2.merge(df_teams, left_on='Team 2 ID', right_on='team_id', how='left')\n",
    "df3 = df3.rename(columns={'name': 'Team2_Name'})"
   ]
  },
  {
   "cell_type": "code",
   "execution_count": 60,
   "id": "a3519078",
   "metadata": {},
   "outputs": [],
   "source": [
    "df4 = df3.merge(df_games, left_on='platformGameId', right_on='platformGameId', how='left')"
   ]
  },
  {
   "cell_type": "code",
   "execution_count": 61,
   "id": "fc8bf65d",
   "metadata": {},
   "outputs": [],
   "source": [
    "df5 = df4.merge(df_leagues, left_on='Torneo ID', right_on='tournament_id', how='left')"
   ]
  },
  {
   "cell_type": "code",
   "execution_count": 62,
   "id": "52941365",
   "metadata": {},
   "outputs": [],
   "source": [
    "df6 = df5[['region', 'league_name', 'Torneo Nombre', 'Fecha Torneo', 'Stage', 'Team 1 ID','Team1_Name', 'Outcome 1', 'Team 2 ID','Team2_Name', 'Outcome 2', 'eventTime']]"
   ]
  },
  {
   "cell_type": "code",
   "execution_count": 63,
   "id": "0aac1048",
   "metadata": {},
   "outputs": [],
   "source": [
    "# Definir una función personalizada para cambiar el formato de la columna\n",
    "def cambiar_a_texto(numero):\n",
    "    # Realizar la transformación deseada aquí\n",
    "    nuevo_valor = str(numero)  # Convertir el número a una cadena de texto\n",
    "    return nuevo_valor\n",
    "\n",
    "# Crear una copia del DataFrame\n",
    "df6_copy = df6.copy()\n",
    "\n",
    "# Aplicar la función a la copia\n",
    "df6_copy['Team 1 ID'] = df6_copy['Team 1 ID'].apply(cambiar_a_texto)\n",
    "df6_copy['Team 2 ID'] = df6_copy['Team 2 ID'].apply(cambiar_a_texto)\n",
    "\n",
    "# Asignar la copia de vuelta al DataFrame original\n",
    "df6 = df6_copy"
   ]
  },
  {
   "cell_type": "code",
   "execution_count": 64,
   "id": "43c06395",
   "metadata": {},
   "outputs": [],
   "source": [
    "df6.to_csv('databaseV1.csv')"
   ]
  },
  {
   "cell_type": "code",
   "execution_count": null,
   "id": "c8362018",
   "metadata": {},
   "outputs": [],
   "source": []
  },
  {
   "cell_type": "code",
   "execution_count": null,
   "id": "3d3d2e40",
   "metadata": {},
   "outputs": [],
   "source": []
  }
 ],
 "metadata": {
  "kernelspec": {
   "display_name": "Python 3 (ipykernel)",
   "language": "python",
   "name": "python3"
  },
  "language_info": {
   "codemirror_mode": {
    "name": "ipython",
    "version": 3
   },
   "file_extension": ".py",
   "mimetype": "text/x-python",
   "name": "python",
   "nbconvert_exporter": "python",
   "pygments_lexer": "ipython3",
   "version": "3.9.13"
  },
  "toc": {
   "base_numbering": 1,
   "nav_menu": {
    "height": "68px",
    "width": "186px"
   },
   "number_sections": true,
   "sideBar": true,
   "skip_h1_title": false,
   "title_cell": "Table of Contents",
   "title_sidebar": "Contents",
   "toc_cell": false,
   "toc_position": {},
   "toc_section_display": true,
   "toc_window_display": false
  }
 },
 "nbformat": 4,
 "nbformat_minor": 5
}
