{
 "cells": [
  {
   "cell_type": "code",
   "execution_count": 1,
   "id": "bbdb4759",
   "metadata": {},
   "outputs": [],
   "source": [
    "import pandas as pd\n",
    "import json\n",
    "from datetime import datetime\n",
    "\n",
    "#leer base de datos con los partidos\n",
    "df = pd.read_csv(r\"C:\\Users\\sergi\\PROYECTO POWER RANKING\\databaseV1.csv\")\n",
    "\n",
    "#Leer df_Teams\n",
    "with open(r\"C:\\Users\\sergi\\PROYECTO POWER RANKING\\esports-data\\teams.json\", 'r') as archivo:\n",
    "    datos_equipos = json.load(archivo)\n",
    "df_teams = pd.DataFrame(datos_equipos)"
   ]
  },
  {
   "cell_type": "code",
   "execution_count": 2,
   "id": "9634ceea",
   "metadata": {},
   "outputs": [],
   "source": [
    "df1= df[['region','Torneo Nombre','Team 1 ID']]\n",
    "df2= df[['region','Torneo Nombre','Team 2 ID']]"
   ]
  },
  {
   "cell_type": "code",
   "execution_count": 3,
   "id": "cbc4bcf8",
   "metadata": {},
   "outputs": [
    {
     "data": {
      "text/html": [
       "<div>\n",
       "<style scoped>\n",
       "    .dataframe tbody tr th:only-of-type {\n",
       "        vertical-align: middle;\n",
       "    }\n",
       "\n",
       "    .dataframe tbody tr th {\n",
       "        vertical-align: top;\n",
       "    }\n",
       "\n",
       "    .dataframe thead th {\n",
       "        text-align: right;\n",
       "    }\n",
       "</style>\n",
       "<table border=\"1\" class=\"dataframe\">\n",
       "  <thead>\n",
       "    <tr style=\"text-align: right;\">\n",
       "      <th></th>\n",
       "      <th>Torneo Nombre</th>\n",
       "      <th>Team 1 ID</th>\n",
       "    </tr>\n",
       "  </thead>\n",
       "  <tbody>\n",
       "    <tr>\n",
       "      <th>0</th>\n",
       "      <td>#2 Summer 2023</td>\n",
       "      <td>109981650516317055</td>\n",
       "    </tr>\n",
       "    <tr>\n",
       "      <th>1</th>\n",
       "      <td>#2 Summer 2023</td>\n",
       "      <td>110733877357854829</td>\n",
       "    </tr>\n",
       "    <tr>\n",
       "      <th>2</th>\n",
       "      <td>#2 Summer 2023</td>\n",
       "      <td>109981650516317055</td>\n",
       "    </tr>\n",
       "    <tr>\n",
       "      <th>3</th>\n",
       "      <td>#2 Summer 2023</td>\n",
       "      <td>110534732558665825</td>\n",
       "    </tr>\n",
       "    <tr>\n",
       "      <th>4</th>\n",
       "      <td>#2 Summer 2023</td>\n",
       "      <td>110733889090164854</td>\n",
       "    </tr>\n",
       "    <tr>\n",
       "      <th>...</th>\n",
       "      <td>...</td>\n",
       "      <td>...</td>\n",
       "    </tr>\n",
       "    <tr>\n",
       "      <th>17543</th>\n",
       "      <td>baltic_masters_2021_spring</td>\n",
       "      <td>105548019132871601</td>\n",
       "    </tr>\n",
       "    <tr>\n",
       "      <th>17544</th>\n",
       "      <td>baltic_masters_2021_spring</td>\n",
       "      <td>105548000936710641</td>\n",
       "    </tr>\n",
       "    <tr>\n",
       "      <th>17545</th>\n",
       "      <td>baltic_masters_2021_spring</td>\n",
       "      <td>104710682193583854</td>\n",
       "    </tr>\n",
       "    <tr>\n",
       "      <th>17546</th>\n",
       "      <td>baltic_masters_2021_spring</td>\n",
       "      <td>103877925817094140</td>\n",
       "    </tr>\n",
       "    <tr>\n",
       "      <th>17547</th>\n",
       "      <td>baltic_masters_2021_spring</td>\n",
       "      <td>105548000936710641</td>\n",
       "    </tr>\n",
       "  </tbody>\n",
       "</table>\n",
       "<p>17548 rows × 2 columns</p>\n",
       "</div>"
      ],
      "text/plain": [
       "                    Torneo Nombre           Team 1 ID\n",
       "0                  #2 Summer 2023  109981650516317055\n",
       "1                  #2 Summer 2023  110733877357854829\n",
       "2                  #2 Summer 2023  109981650516317055\n",
       "3                  #2 Summer 2023  110534732558665825\n",
       "4                  #2 Summer 2023  110733889090164854\n",
       "...                           ...                 ...\n",
       "17543  baltic_masters_2021_spring  105548019132871601\n",
       "17544  baltic_masters_2021_spring  105548000936710641\n",
       "17545  baltic_masters_2021_spring  104710682193583854\n",
       "17546  baltic_masters_2021_spring  103877925817094140\n",
       "17547  baltic_masters_2021_spring  105548000936710641\n",
       "\n",
       "[17548 rows x 2 columns]"
      ]
     },
     "execution_count": 3,
     "metadata": {},
     "output_type": "execute_result"
    }
   ],
   "source": [
    "df1"
   ]
  },
  {
   "cell_type": "code",
   "execution_count": null,
   "id": "a52c4502",
   "metadata": {},
   "outputs": [],
   "source": []
  }
 ],
 "metadata": {
  "kernelspec": {
   "display_name": "Python 3 (ipykernel)",
   "language": "python",
   "name": "python3"
  },
  "language_info": {
   "codemirror_mode": {
    "name": "ipython",
    "version": 3
   },
   "file_extension": ".py",
   "mimetype": "text/x-python",
   "name": "python",
   "nbconvert_exporter": "python",
   "pygments_lexer": "ipython3",
   "version": "3.9.13"
  },
  "toc": {
   "base_numbering": 1,
   "nav_menu": {},
   "number_sections": true,
   "sideBar": true,
   "skip_h1_title": false,
   "title_cell": "Table of Contents",
   "title_sidebar": "Contents",
   "toc_cell": false,
   "toc_position": {},
   "toc_section_display": true,
   "toc_window_display": false
  }
 },
 "nbformat": 4,
 "nbformat_minor": 5
}
